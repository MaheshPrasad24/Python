{
 "cells": [
  {
   "cell_type": "markdown",
   "id": "7861f6cd",
   "metadata": {},
   "source": [
    "Excp-1"
   ]
  },
  {
   "cell_type": "code",
   "execution_count": 22,
   "id": "57908c68",
   "metadata": {},
   "outputs": [
    {
     "name": "stdout",
     "output_type": "stream",
     "text": [
      "Enter the number of digits:4\n",
      "Enter  a 4-digit integer:5678\n",
      "5\n",
      "6\n",
      "7\n",
      "8\n"
     ]
    }
   ],
   "source": [
    "n=int(input(\"Enter the number of digits:\"))\n",
    "if n>0:\n",
    "    number=int(input(f\"Enter  a {n}-digit integer:\"))\n",
    "    if number>=10**(n-1) and number <10**n:\n",
    "        for i in range(n):\n",
    "            digit=number//(10**(n-1))\n",
    "            print(digit)\n",
    "            number%=10**(n-1)\n",
    "            n-=1\n",
    "    else:\n",
    "        print(f\"Please enter a {n}-digit integer.\")\n",
    "else: \n",
    "    print(\"Please enter a valid number of digit(greater then 0).\")"
   ]
  },
  {
   "cell_type": "markdown",
   "id": "01c49cc5",
   "metadata": {},
   "source": [
    "Excp-2"
   ]
  },
  {
   "cell_type": "code",
   "execution_count": 24,
   "id": "d8131ebb",
   "metadata": {},
   "outputs": [
    {
     "name": "stdout",
     "output_type": "stream",
     "text": [
      "Enter the first number:10\n",
      "Enter the second number:5\n",
      "Enter the third number: 7\n",
      "Enter the fourth number:3\n",
      "The sorted numbers are: 3 5 7 10\n"
     ]
    }
   ],
   "source": [
    "a=int(input(\"Enter the first number:\"))\n",
    "b=int(input(\"Enter the second number:\"))\n",
    "c=int(input(\"Enter the third number: \"))\n",
    "d=int(input(\"Enter the fourth number:\"))\n",
    "if a>b:a,b=b,a\n",
    "if c>d:c,d=d,c\n",
    "if a>c:a,c=c,a\n",
    "if b>d:b,d=d,b\n",
    "if b>c:b,c=c,b\n",
    "print(\"The sorted numbers are:\",a,b,c,d)"
   ]
  },
  {
   "cell_type": "code",
   "execution_count": 25,
   "id": "892dc00f",
   "metadata": {},
   "outputs": [
    {
     "name": "stdout",
     "output_type": "stream",
     "text": [
      "Enter the first number:10\n",
      "Enter the second number:5\n",
      "Enter the third number: 7\n",
      "Enter the fourth number:3\n",
      "The sorted numbers are: 10 7 5 3\n"
     ]
    }
   ],
   "source": [
    "a=int(input(\"Enter the first number:\"))\n",
    "b=int(input(\"Enter the second number:\"))\n",
    "c=int(input(\"Enter the third number: \"))\n",
    "d=int(input(\"Enter the fourth number:\"))\n",
    "if a>b:a,b=b,a\n",
    "if c>d:c,d=d,c\n",
    "if a>c:a,c=c,a\n",
    "if b>d:b,d=d,b\n",
    "if b>c:b,c=c,b\n",
    "print(\"The sorted numbers are:\",d,c,b,a)"
   ]
  },
  {
   "cell_type": "markdown",
   "id": "f651cfd4",
   "metadata": {},
   "source": [
    "EXCPT-3"
   ]
  },
  {
   "cell_type": "code",
   "execution_count": 3,
   "id": "16c5e6f5",
   "metadata": {},
   "outputs": [
    {
     "name": "stdout",
     "output_type": "stream",
     "text": [
      "Enter an n-digit number:1234\n",
      "Not a Palindrome\n"
     ]
    }
   ],
   "source": [
    "number=int(input(\"Enter an n-digit number:\"))\n",
    "original_number=number\n",
    "reversed_number=0\n",
    "while number>0:\n",
    "    digit=number%10\n",
    "    reversed_number=reversed_number*10+digit\n",
    "    number//=10\n",
    "if original_number==reversed_number:\n",
    "    print(\"Palindrome\")\n",
    "else:\n",
    "    print(\"Not a Palindrome\")"
   ]
  },
  {
   "cell_type": "markdown",
   "id": "a1b3a4dc",
   "metadata": {},
   "source": [
    "EXCPT-4"
   ]
  },
  {
   "cell_type": "code",
   "execution_count": 11,
   "id": "21f1b474",
   "metadata": {},
   "outputs": [
    {
     "name": "stdout",
     "output_type": "stream",
     "text": [
      "Enter an integer for the multiplication table:5\n",
      "Multiplication Table for 5:\n",
      "5*1=5\n",
      "5*2=10\n",
      "5*3=15\n",
      "5*4=20\n",
      "5*5=25\n",
      "5*6=30\n",
      "5*7=35\n",
      "5*8=40\n",
      "5*9=45\n",
      "5*10=50\n"
     ]
    }
   ],
   "source": [
    "n=int(input(\"Enter an integer for the multiplication table:\"))\n",
    "print(f\"Multiplication Table for {n}:\")\n",
    "for i in range(1,11):\n",
    "    result=n*i\n",
    "    print(f\"{n}*{i}={result}\")"
   ]
  },
  {
   "cell_type": "markdown",
   "id": "a191ff16",
   "metadata": {},
   "source": [
    "## EXCPT-5"
   ]
  },
  {
   "cell_type": "code",
   "execution_count": 28,
   "id": "ecfb0139",
   "metadata": {},
   "outputs": [
    {
     "name": "stdout",
     "output_type": "stream",
     "text": [
      "Enter the number of elements:6\n",
      "Enter number 1:4\n",
      "Enter number 2:8\n",
      "Enter number 3:6\n",
      "Enter number 4:5\n",
      "Enter number 5:3\n",
      "Enter number 6:9\n",
      "mean:5.833333333333333\n",
      "median:5.5\n",
      "mode:No mode\n",
      "Sample Varience:5.366666666666667\n",
      "Population varience:4.472222222222222\n",
      "sample Standard Deviation:2.316606713852541\n",
      "Population standard Deviation:2.1147629234082532\n"
     ]
    }
   ],
   "source": [
    "n=int(input(\"Enter the number of elements:\"))\n",
    "numbers=[int(input(f\"Enter number {i+1}:\"))for i in range(n)]\n",
    "mean=sum(numbers)/n\n",
    "numbers.sort()\n",
    "if n%2==0:\n",
    "    median=(numbers[n//2-1]+numbers[n//2])/2\n",
    "else:\n",
    "    median=numbers[n//2]\n",
    "frequency={num:numbers.count(num) for num in numbers}\n",
    "max_count=max(frequency.values())\n",
    "mode=[k for k,v in frequency.items() if v==max_count]\n",
    "if len(mode)==n:\n",
    "    mode=\"No mode\"\n",
    "mean_difference_squared_sum=sum((x-mean)**2 for x in numbers)\n",
    "varience_sample=mean_difference_squared_sum/(n-1) if n>1 else 0\n",
    "varience_population=mean_difference_squared_sum/n\n",
    "std_deviation_sample=varience_sample**0.5\n",
    "std_deviation_population=varience_population**0.5\n",
    "print(f\"mean:{mean}\")\n",
    "print(f\"median:{median}\")\n",
    "print(f\"mode:{mode}\")\n",
    "print(f\"Sample Varience:{varience_sample}\") \n",
    "print(f\"Population varience:{varience_population}\")\n",
    "print(f\"sample Standard Deviation:{std_deviation_sample}\")\n",
    "print(f\"Population standard Deviation:{std_deviation_population}\")"
   ]
  },
  {
   "cell_type": "markdown",
   "id": "397bccdf",
   "metadata": {},
   "source": [
    "## EXCPT-6"
   ]
  },
  {
   "cell_type": "code",
   "execution_count": 1,
   "id": "286aa1f4",
   "metadata": {},
   "outputs": [
    {
     "name": "stdout",
     "output_type": "stream",
     "text": [
      "Enter the integer number:253\n",
      "The reverse number is:352\n"
     ]
    }
   ],
   "source": [
    "number=int(input(\"Enter the integer number:\"))\n",
    "revs_number=0\n",
    "while(number>0):\n",
    "    remainder=number%10\n",
    "    revs_number=(revs_number*10)+remainder\n",
    "    number=number//10\n",
    "print(\"The reverse number is:{}\".format(revs_number))"
   ]
  },
  {
   "cell_type": "markdown",
   "id": "5c98a37e",
   "metadata": {},
   "source": [
    "## EXCPT-7"
   ]
  },
  {
   "cell_type": "code",
   "execution_count": 14,
   "id": "bc4a2b84",
   "metadata": {},
   "outputs": [
    {
     "name": "stdout",
     "output_type": "stream",
     "text": [
      "Enter the user input:12345\n",
      "Enter th 1st position which u want to swap:2\n",
      "Enter th 2st position which u want to swap:3\n",
      "original number: 12345\n",
      "Interchanged number: 13245\n"
     ]
    }
   ],
   "source": [
    "def interchange_digits(number,pos1,pos2):\n",
    "    number_str=str(number)\n",
    "    number_list=list(number_str)\n",
    "    number_list[pos1-1],number_list[pos2-1]=number_list[pos2-1],number_list[pos1-1]\n",
    "    interchanged_number=int(\"\".join(number_list))\n",
    "    return interchanged_number\n",
    "number=int(input('Enter the user input:'))\n",
    "pos1=int(input('Enter th 1st position which u want to swap:'))\n",
    "pos2=int(input('Enter th 2st position which u want to swap:'))\n",
    "interchanged_number=interchange_digits(number,pos1,pos2)\n",
    "print(\"original number:\",number)\n",
    "print(\"Interchanged number:\",interchanged_number)"
   ]
  },
  {
   "cell_type": "markdown",
   "id": "b7cfc068",
   "metadata": {},
   "source": [
    "## EXCPT-8"
   ]
  },
  {
   "cell_type": "code",
   "execution_count": 3,
   "id": "dff58ea4",
   "metadata": {},
   "outputs": [
    {
     "name": "stdout",
     "output_type": "stream",
     "text": [
      "['Hello', 'Good', 'How', 'Simple']\n"
     ]
    }
   ],
   "source": [
    "def capitalize_strings(string_list):\n",
    "    return[s.capitalize()for s in string_list]\n",
    "input_strings=['hello','good','how','simple']\n",
    "capitalize_strings=capitalize_strings(input_strings)\n",
    "print(capitalize_strings)"
   ]
  },
  {
   "cell_type": "markdown",
   "id": "2b812c69",
   "metadata": {},
   "source": [
    "## EXCPT-9"
   ]
  },
  {
   "cell_type": "code",
   "execution_count": 19,
   "id": "3e4230cd",
   "metadata": {},
   "outputs": [
    {
     "name": "stdout",
     "output_type": "stream",
     "text": [
      "Enter a sentnce:hello welcome to lab\n",
      "No duplicate words found\n"
     ]
    }
   ],
   "source": [
    "def count_duplicate_words(sentence):\n",
    "    words=sentence.split()\n",
    "    word_count={}\n",
    "    for word in words:\n",
    "        word=word.lower()\n",
    "        if word in word_count:\n",
    "            word_count[word]+=1\n",
    "        else:\n",
    "            word_count[word]=1\n",
    "            \n",
    "    duplicates={word:count for word,count in word_count.items() if count>1}\n",
    "    if duplicates:\n",
    "        print(\"Duplicates words and their counts:\")\n",
    "        for word,count in duplicates.items():\n",
    "            print(f\"{word}:{count}\")\n",
    "    else:\n",
    "        print(\"No duplicate words found\")\n",
    "sentence=input(\"Enter a sentence:\")\n",
    "count_duplicate_words(sentence)"
   ]
  },
  {
   "cell_type": "code",
   "execution_count": null,
   "id": "0264b21d",
   "metadata": {},
   "outputs": [],
   "source": []
  },
  {
   "cell_type": "code",
   "execution_count": null,
   "id": "c8e7b469",
   "metadata": {},
   "outputs": [],
   "source": []
  }
 ],
 "metadata": {
  "kernelspec": {
   "display_name": "Python 3 (ipykernel)",
   "language": "python",
   "name": "python3"
  },
  "language_info": {
   "codemirror_mode": {
    "name": "ipython",
    "version": 3
   },
   "file_extension": ".py",
   "mimetype": "text/x-python",
   "name": "python",
   "nbconvert_exporter": "python",
   "pygments_lexer": "ipython3",
   "version": "3.10.9"
  }
 },
 "nbformat": 4,
 "nbformat_minor": 5
}
